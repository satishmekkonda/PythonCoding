{
 "cells": [
  {
   "cell_type": "markdown",
   "metadata": {},
   "source": [
    "## Printing text Files in a Directory"
   ]
  },
  {
   "cell_type": "code",
   "execution_count": 2,
   "metadata": {},
   "outputs": [
    {
     "name": "stdout",
     "output_type": "stream",
     "text": [
      "Apple_Mac_Notes.txt.txt\n",
      "LinkedIn Contacts.txt\n",
      "MLDS 2.txt\n",
      "MLDS 3.txt\n",
      "MLDS 4.txt\n",
      "MLDS 5.txt\n",
      "MLDS 6.txt\n",
      "MLDS.txt\n",
      "MLDS_5_Apple.txt\n",
      "P2.txt\n",
      "PFA 2.txt\n",
      "PFA3.txt\n",
      "PFAH.txt\n",
      "Practise.txt\n",
      "Python Programs.txt\n",
      "Regex.txt\n",
      "SPAM.txt\n",
      "Spiral Binding.txt\n",
      "untitled.txt\n"
     ]
    }
   ],
   "source": [
    "import os\n",
    "\n",
    "for filename in os.listdir():\n",
    "    if filename.endswith('.txt'):\n",
    "        print(filename)"
   ]
  },
  {
   "cell_type": "markdown",
   "metadata": {},
   "source": [
    "## Printing IPYNB Files in a Directory"
   ]
  },
  {
   "cell_type": "code",
   "execution_count": 11,
   "metadata": {},
   "outputs": [
    {
     "name": "stdout",
     "output_type": "stream",
     "text": [
      "Character_Count.ipynb\n",
      "Class_Object_Understanding.ipynb\n",
      "Copy_Types.ipynb\n",
      "Finding_Files_In_Directory.ipynb\n",
      "Number Game.ipynb\n",
      "Random_Function.ipynb\n",
      "REGEX_TEST.ipynb\n",
      "Tic_Tac_Toe.ipynb\n",
      "Untitled.ipynb\n",
      "Untitled1.ipynb\n"
     ]
    }
   ],
   "source": [
    "for filename in os.listdir():\n",
    "    if filename.endswith('.ipynb'):\n",
    "        print(filename)"
   ]
  },
  {
   "cell_type": "markdown",
   "metadata": {},
   "source": [
    "## Printing .csv Files in a Directory"
   ]
  },
  {
   "cell_type": "code",
   "execution_count": 12,
   "metadata": {},
   "outputs": [
    {
     "name": "stdout",
     "output_type": "stream",
     "text": [
      "sample_submission.csv\n",
      "Test.csv\n",
      "Train.csv\n"
     ]
    }
   ],
   "source": [
    "for x in os.listdir():\n",
    "    if x.endswith('.csv'):\n",
    "        print(x)"
   ]
  },
  {
   "cell_type": "code",
   "execution_count": 14,
   "metadata": {},
   "outputs": [
    {
     "name": "stdout",
     "output_type": "stream",
     "text": [
      "P2.txt\n",
      "PFA 2.txt\n",
      "PFA3.txt\n",
      "PFAH.txt\n",
      "Practise.txt\n",
      "Python Code.rtf\n",
      "Python Programs.txt\n"
     ]
    }
   ],
   "source": [
    "for x in os.listdir():\n",
    "    if x.startswith('P'):\n",
    "        print(x)"
   ]
  },
  {
   "cell_type": "code",
   "execution_count": null,
   "metadata": {},
   "outputs": [],
   "source": []
  }
 ],
 "metadata": {
  "kernelspec": {
   "display_name": "Python 3",
   "language": "python",
   "name": "python3"
  },
  "language_info": {
   "codemirror_mode": {
    "name": "ipython",
    "version": 3
   },
   "file_extension": ".py",
   "mimetype": "text/x-python",
   "name": "python",
   "nbconvert_exporter": "python",
   "pygments_lexer": "ipython3",
   "version": "3.7.3"
  }
 },
 "nbformat": 4,
 "nbformat_minor": 2
}
