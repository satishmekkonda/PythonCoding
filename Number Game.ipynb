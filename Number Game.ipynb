{
 "cells": [
  {
   "cell_type": "markdown",
   "metadata": {},
   "source": [
    "## This is a Simple Guess Number Game"
   ]
  },
  {
   "cell_type": "code",
   "execution_count": 11,
   "metadata": {},
   "outputs": [
    {
     "name": "stdout",
     "output_type": "stream",
     "text": [
      "hello what is your name\n",
      "SASASA\n",
      "Well, SASASA, I am thinking of a number between 1 and 20\n",
      "Take a guess\n",
      "5\n",
      "Your Guess is Low\n",
      "Take a guess\n",
      "10\n",
      "Your Guess is Low\n",
      "Take a guess\n",
      "15\n",
      "Your Guess is Low\n",
      "Take a guess\n",
      "18\n",
      "Your Guess is Low\n",
      "Take a guess\n",
      "19\n",
      "Good Job, SASASA! You guessed my numberin 5 guesses!\n"
     ]
    }
   ],
   "source": [
    "\n",
    "import random\n",
    "print('hello what is your name')\n",
    "name = input()\n",
    "print('Well, ' + name  + ', I am thinking of a number between 1 and 20')\n",
    "\n",
    "secretNumber = random.randint(1,20)\n",
    "\n",
    "#print('DEBUG: SecretNumber is ' + str(secretNumber) )\n",
    "\n",
    "for guessesTaken in range (1,7):\n",
    "  print('Take a guess')\n",
    "  guess = int(input())\n",
    "\n",
    "  if guess < secretNumber:\n",
    "    print('Your Guess is Low')\n",
    "  elif guess > secretNumber:\n",
    "    print('Your Guess is High')\n",
    "\n",
    "  else:\n",
    "    break  #This condition is for the correct guess\n",
    "\n",
    "if guess == secretNumber:\n",
    "  print('Good Job, ' + name + '! You guessed my numberin ' + str(guessesTaken) + ' guesses!')\n",
    "\n",
    "else:\n",
    "  print('The number i was thinking of was ' + str(secretNumber))"
   ]
  },
  {
   "cell_type": "code",
   "execution_count": null,
   "metadata": {},
   "outputs": [],
   "source": []
  }
 ],
 "metadata": {
  "kernelspec": {
   "display_name": "Python 3",
   "language": "python",
   "name": "python3"
  },
  "language_info": {
   "codemirror_mode": {
    "name": "ipython",
    "version": 3
   },
   "file_extension": ".py",
   "mimetype": "text/x-python",
   "name": "python",
   "nbconvert_exporter": "python",
   "pygments_lexer": "ipython3",
   "version": "3.7.3"
  }
 },
 "nbformat": 4,
 "nbformat_minor": 2
}
