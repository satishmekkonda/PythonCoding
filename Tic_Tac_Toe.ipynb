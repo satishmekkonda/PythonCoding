{
 "cells": [
  {
   "cell_type": "code",
   "execution_count": 14,
   "metadata": {},
   "outputs": [],
   "source": [
    "## Simple Tica-Tac-Toe using Dictionary"
   ]
  },
  {
   "cell_type": "code",
   "execution_count": 13,
   "metadata": {},
   "outputs": [
    {
     "name": "stdout",
     "output_type": "stream",
     "text": [
      "X| |O\n",
      "_____\n",
      "O|O| \n",
      "_____\n",
      "X|X|X\n"
     ]
    }
   ],
   "source": [
    "theBoard = {'top-L':' ', 'top-M':' ','top-R':' ', 'mid-L':' ', 'mid-M':' ','mid-R':' ','low-L':' ', 'low-M':' ','low-R':' '}\n",
    "import pprint\n",
    "\n",
    "theBoard['top-L'] = 'X'\n",
    "theBoard['top-R'] = 'O'\n",
    "theBoard['low-L'] = 'X'\n",
    "theBoard['mid-L'] = 'O'\n",
    "theBoard['low-R'] = 'X'\n",
    "theBoard['mid-M'] = 'O'\n",
    "theBoard['low-M'] = 'X'\n",
    "\n",
    "def printBoard(board):\n",
    "    print(board['top-L'] + '|' + board['top-M'] + '|' + board['top-R'] )\n",
    "    print('_____')\n",
    "    print(board['mid-L'] + '|' + board['mid-M'] + '|' + board['mid-R'] )\n",
    "    print('_____')\n",
    "    print(board['low-L'] + '|' + board['low-M'] + '|' + board['low-R'] )\n",
    "    \n",
    "printBoard(theBoard)"
   ]
  },
  {
   "cell_type": "code",
   "execution_count": 19,
   "metadata": {},
   "outputs": [
    {
     "name": "stdout",
     "output_type": "stream",
     "text": [
      "Player 1: X\n",
      "Player 2: O\n",
      "Player 1: X\n",
      "Player 2: O\n",
      "Player 1: X\n",
      "Player 2: O\n",
      "Player 1: X\n",
      "X| |O\n",
      "_____\n",
      "O|O| \n",
      "_____\n",
      "X|X|X\n"
     ]
    }
   ],
   "source": [
    "theBoard = {'top-L':' ', 'top-M':' ','top-R':' ', 'mid-L':' ', 'mid-M':' ','mid-R':' ','low-L':' ', 'low-M':' ','low-R':' '}\n",
    "import pprint\n",
    "\n",
    "theBoard['top-L'] = input('Player 1: ')\n",
    "theBoard['top-R'] = input('Player 2: ')\n",
    "theBoard['low-L'] = input('Player 1: ')\n",
    "theBoard['mid-L'] = input('Player 2: ')\n",
    "theBoard['low-R'] = input('Player 1: ')\n",
    "theBoard['mid-M'] = input('Player 2: ')\n",
    "theBoard['low-M'] = input('Player 1: ')\n",
    "\n",
    "def printBoard(board):\n",
    "    print(board['top-L'] + '|' + board['top-M'] + '|' + board['top-R'] )\n",
    "    print('_____')\n",
    "    print(board['mid-L'] + '|' + board['mid-M'] + '|' + board['mid-R'] )\n",
    "    print('_____')\n",
    "    print(board['low-L'] + '|' + board['low-M'] + '|' + board['low-R'] )\n",
    "    \n",
    "printBoard(theBoard)"
   ]
  },
  {
   "cell_type": "code",
   "execution_count": null,
   "metadata": {},
   "outputs": [],
   "source": []
  }
 ],
 "metadata": {
  "kernelspec": {
   "display_name": "Python 3",
   "language": "python",
   "name": "python3"
  },
  "language_info": {
   "codemirror_mode": {
    "name": "ipython",
    "version": 3
   },
   "file_extension": ".py",
   "mimetype": "text/x-python",
   "name": "python",
   "nbconvert_exporter": "python",
   "pygments_lexer": "ipython3",
   "version": "3.7.3"
  }
 },
 "nbformat": 4,
 "nbformat_minor": 2
}
