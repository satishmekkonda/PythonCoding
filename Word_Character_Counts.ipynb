{
 "cells": [
  {
   "cell_type": "markdown",
   "metadata": {},
   "source": [
    "## Upper_Characters in a FILE"
   ]
  },
  {
   "cell_type": "code",
   "execution_count": 1,
   "metadata": {},
   "outputs": [
    {
     "name": "stdout",
     "output_type": "stream",
     "text": [
      "1934\n"
     ]
    }
   ],
   "source": [
    "with open(\"MLDS 2.txt\") as textfile:\n",
    "    upper_count = 0\n",
    "    \n",
    "    read = textfile.read()\n",
    "    \n",
    "    for c in read:\n",
    "        if c.isupper():\n",
    "            upper_count += 1\n",
    "            \n",
    "print(upper_count)"
   ]
  },
  {
   "cell_type": "markdown",
   "metadata": {},
   "source": [
    "## Lower_Characters in a FILE"
   ]
  },
  {
   "cell_type": "code",
   "execution_count": 2,
   "metadata": {},
   "outputs": [
    {
     "name": "stdout",
     "output_type": "stream",
     "text": [
      "18228\n"
     ]
    }
   ],
   "source": [
    "with open(\"MLDS 2.txt\") as textfile:\n",
    "    lower_count = 0\n",
    "    \n",
    "    read = textfile.read()\n",
    "    \n",
    "    for c in read:\n",
    "        if c.islower():\n",
    "            lower_count += 1\n",
    "            \n",
    "print(lower_count)"
   ]
  },
  {
   "cell_type": "markdown",
   "metadata": {},
   "source": [
    "## WORD_COUNT in a FILE"
   ]
  },
  {
   "cell_type": "code",
   "execution_count": 3,
   "metadata": {},
   "outputs": [
    {
     "name": "stdout",
     "output_type": "stream",
     "text": [
      "<class 'list'>\n",
      "3163\n"
     ]
    }
   ],
   "source": [
    "with open(\"MLDS 2.txt\") as textfile:\n",
    "    word_count = 0\n",
    "    \n",
    "    read = textfile.read()\n",
    "    read = read.split()\n",
    "    for c in read:\n",
    "        word_count += 1\n",
    "            \n",
    "print(type(read))\n",
    "print(word_count)"
   ]
  },
  {
   "cell_type": "code",
   "execution_count": null,
   "metadata": {},
   "outputs": [],
   "source": []
  },
  {
   "cell_type": "code",
   "execution_count": 4,
   "metadata": {},
   "outputs": [
    {
     "ename": "SyntaxError",
     "evalue": "invalid syntax (<ipython-input-4-774cf4b9bee3>, line 1)",
     "output_type": "error",
     "traceback": [
      "\u001b[1;36m  File \u001b[1;32m\"<ipython-input-4-774cf4b9bee3>\"\u001b[1;36m, line \u001b[1;32m1\u001b[0m\n\u001b[1;33m    count sum(1 for line in countletter for character in line if character.isupper())\u001b[0m\n\u001b[1;37m            ^\u001b[0m\n\u001b[1;31mSyntaxError\u001b[0m\u001b[1;31m:\u001b[0m invalid syntax\n"
     ]
    }
   ],
   "source": [
    "    "
   ]
  },
  {
   "cell_type": "code",
   "execution_count": null,
   "metadata": {},
   "outputs": [],
   "source": []
  }
 ],
 "metadata": {
  "kernelspec": {
   "display_name": "Python 3",
   "language": "python",
   "name": "python3"
  },
  "language_info": {
   "codemirror_mode": {
    "name": "ipython",
    "version": 3
   },
   "file_extension": ".py",
   "mimetype": "text/x-python",
   "name": "python",
   "nbconvert_exporter": "python",
   "pygments_lexer": "ipython3",
   "version": "3.7.3"
  }
 },
 "nbformat": 4,
 "nbformat_minor": 2
}
