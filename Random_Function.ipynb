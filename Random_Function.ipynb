{
 "cells": [
  {
   "cell_type": "code",
   "execution_count": 10,
   "metadata": {},
   "outputs": [
    {
     "name": "stdout",
     "output_type": "stream",
     "text": [
      "1\n",
      "It is certain\n",
      "3\n",
      "Answer is no\n",
      "5\n",
      "Probably Might be\n",
      "1\n",
      "It is certain\n",
      "4\n",
      "I Said No\n"
     ]
    }
   ],
   "source": [
    "import random\n",
    "\n",
    "def getAnswer(answerNumber):\n",
    "    if answerNumber == 1:\n",
    "        return 'It is certain'\n",
    "    \n",
    "    elif answerNumber == 2:\n",
    "        return 'Please try again'\n",
    "    \n",
    "    elif answerNumber == 3:\n",
    "        return 'Answer is no'\n",
    "    \n",
    "    elif answerNumber == 4:\n",
    "        return 'I Said No'\n",
    "    \n",
    "    elif answerNumber == 5:\n",
    "        return 'Probably Might be'\n",
    "    \n",
    "## Calling Function \n",
    "\n",
    "a = random.randint(1,5)\n",
    "print(a)\n",
    "fortune_a= getAnswer(a)\n",
    "print(fortune_a)\n",
    "\n",
    "b = random.randint(1,5)\n",
    "print(b)\n",
    "fortune_b = getAnswer(b)\n",
    "print(fortune_b)\n",
    "\n",
    "\n",
    "c = random.randint(1,5)\n",
    "print(c)\n",
    "fortune_c = getAnswer(c)\n",
    "print(fortune_c)\n",
    "\n",
    "\n",
    "d = random.randint(1,5)\n",
    "print(d)\n",
    "fortune_d = getAnswer(d)\n",
    "print(fortune_d)\n",
    "\n",
    "\n",
    "e = random.randint(1,5)\n",
    "print(e)\n",
    "fortune_e = getAnswer(e)\n",
    "print(fortune_e)"
   ]
  },
  {
   "cell_type": "code",
   "execution_count": null,
   "metadata": {},
   "outputs": [],
   "source": []
  },
  {
   "cell_type": "code",
   "execution_count": null,
   "metadata": {},
   "outputs": [],
   "source": []
  }
 ],
 "metadata": {
  "kernelspec": {
   "display_name": "Python 3",
   "language": "python",
   "name": "python3"
  },
  "language_info": {
   "codemirror_mode": {
    "name": "ipython",
    "version": 3
   },
   "file_extension": ".py",
   "mimetype": "text/x-python",
   "name": "python",
   "nbconvert_exporter": "python",
   "pygments_lexer": "ipython3",
   "version": "3.7.3"
  }
 },
 "nbformat": 4,
 "nbformat_minor": 2
}
