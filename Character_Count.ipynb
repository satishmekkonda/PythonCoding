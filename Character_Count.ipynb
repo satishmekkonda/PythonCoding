{
 "cells": [
  {
   "cell_type": "markdown",
   "metadata": {},
   "source": [
    "## Characters count in a Sentence"
   ]
  },
  {
   "cell_type": "code",
   "execution_count": 56,
   "metadata": {},
   "outputs": [
    {
     "name": "stdout",
     "output_type": "stream",
     "text": [
      "{' ': 13, 'I': 1, 't': 6, 'w': 1, 'a': 4, 's': 2, 'b': 1, 'r': 4, 'i': 5, 'g': 1, 'h': 3, 'c': 3, 'o': 2, 'l': 3, 'd': 4, 'y': 1, 'n': 3, 'A': 1, 'p': 1, ',': 1, 'e': 4, 'k': 2}\n"
     ]
    }
   ],
   "source": [
    "message = ' It was a bright cold day in April, and the clock striked thirteen'\n",
    "count= {}\n",
    "\n",
    "for character in message:\n",
    "  count.setdefault(character, 0)\n",
    "  count[character]= count[character]+1\n",
    "\n",
    "print(count)"
   ]
  },
  {
   "cell_type": "markdown",
   "metadata": {},
   "source": [
    "## All characters considered as uppercase"
   ]
  },
  {
   "cell_type": "code",
   "execution_count": 57,
   "metadata": {},
   "outputs": [
    {
     "name": "stdout",
     "output_type": "stream",
     "text": [
      "{' ': 13, 'I': 6, 'T': 6, 'W': 1, 'A': 5, 'S': 2, 'B': 1, 'R': 4, 'G': 1, 'H': 3, 'C': 3, 'O': 2, 'L': 3, 'D': 4, 'Y': 1, 'N': 3, 'P': 1, ',': 1, 'E': 4, 'K': 2}\n"
     ]
    }
   ],
   "source": [
    "message = ' It was a bright cold day in April, and the clock striked thirteen'\n",
    "count= {}\n",
    "\n",
    "for character in message.upper():\n",
    "  count.setdefault(character, 0)\n",
    "  count[character]= count[character]+1\n",
    "\n",
    "print(count)"
   ]
  },
  {
   "cell_type": "markdown",
   "metadata": {},
   "source": [
    "## All characters considered as lowercase"
   ]
  },
  {
   "cell_type": "code",
   "execution_count": 58,
   "metadata": {},
   "outputs": [
    {
     "name": "stdout",
     "output_type": "stream",
     "text": [
      "{' ': 13, 'i': 6, 't': 6, 'w': 1, 'a': 5, 's': 2, 'b': 1, 'r': 4, 'g': 1, 'h': 3, 'c': 3, 'o': 2, 'l': 3, 'd': 4, 'y': 1, 'n': 3, 'p': 1, ',': 1, 'e': 4, 'k': 2}\n"
     ]
    }
   ],
   "source": [
    "message = ' It was a bright cold day in April, and the clock striked thirteen'\n",
    "count= {}\n",
    "\n",
    "for character in message.lower():\n",
    "  count.setdefault(character, 0)\n",
    "  count[character]= count[character]+1\n",
    "\n",
    "print(count)"
   ]
  },
  {
   "cell_type": "code",
   "execution_count": 63,
   "metadata": {},
   "outputs": [
    {
     "name": "stdout",
     "output_type": "stream",
     "text": [
      "  13\n",
      "i 6\n",
      "t 6\n",
      "w 1\n",
      "a 5\n",
      "s 2\n",
      "b 1\n",
      "r 4\n",
      "g 1\n",
      "h 3\n",
      "c 3\n",
      "o 2\n",
      "l 3\n",
      "d 4\n",
      "y 1\n",
      "n 3\n",
      "p 1\n",
      ", 1\n",
      "e 4\n",
      "k 2\n"
     ]
    }
   ],
   "source": [
    "for i, j in count.items():\n",
    "    print(i,j)"
   ]
  },
  {
   "cell_type": "code",
   "execution_count": 64,
   "metadata": {},
   "outputs": [
    {
     "name": "stdout",
     "output_type": "stream",
     "text": [
      "(' ', 13)\n",
      "('i', 6)\n",
      "('t', 6)\n",
      "('w', 1)\n",
      "('a', 5)\n",
      "('s', 2)\n",
      "('b', 1)\n",
      "('r', 4)\n",
      "('g', 1)\n",
      "('h', 3)\n",
      "('c', 3)\n",
      "('o', 2)\n",
      "('l', 3)\n",
      "('d', 4)\n",
      "('y', 1)\n",
      "('n', 3)\n",
      "('p', 1)\n",
      "(',', 1)\n",
      "('e', 4)\n",
      "('k', 2)\n"
     ]
    }
   ],
   "source": [
    "for i in count.items():\n",
    "    print(i)"
   ]
  },
  {
   "cell_type": "code",
   "execution_count": null,
   "metadata": {},
   "outputs": [],
   "source": []
  }
 ],
 "metadata": {
  "kernelspec": {
   "display_name": "Python 3",
   "language": "python",
   "name": "python3"
  },
  "language_info": {
   "codemirror_mode": {
    "name": "ipython",
    "version": 3
   },
   "file_extension": ".py",
   "mimetype": "text/x-python",
   "name": "python",
   "nbconvert_exporter": "python",
   "pygments_lexer": "ipython3",
   "version": "3.7.3"
  }
 },
 "nbformat": 4,
 "nbformat_minor": 2
}
