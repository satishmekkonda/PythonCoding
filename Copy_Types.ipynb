{
 "cells": [
  {
   "cell_type": "markdown",
   "metadata": {},
   "source": [
    "## Referencing"
   ]
  },
  {
   "cell_type": "code",
   "execution_count": 1,
   "metadata": {},
   "outputs": [
    {
     "name": "stdout",
     "output_type": "stream",
     "text": [
      "[[1, 2, 3], [4, 5, 6], [7, 8, 9], [10, 11, 12], [13, 14, 15]]\n",
      "[[1, 2, 3], [4, 5, 6], [7, 8, 9], [10, 11, 12], [13, 14, 15]]\n",
      "2152504929736\n",
      "2152504929736\n",
      "True\n"
     ]
    }
   ],
   "source": [
    "old = [[1,2,3], [4,5,6], [7,8,9]]\n",
    "\n",
    "new_r = old\n",
    "\n",
    "old.append([10,11,12])\n",
    "new_r.append([13,14,15])\n",
    "\n",
    "print(old)\n",
    "print(new_r)\n",
    "print(id(old))\n",
    "print(id(new_r))\n",
    "print(id(old) == id(new_r))"
   ]
  },
  {
   "cell_type": "markdown",
   "metadata": {},
   "source": [
    "## Shallow Copy: copy.copy()"
   ]
  },
  {
   "cell_type": "code",
   "execution_count": 3,
   "metadata": {},
   "outputs": [
    {
     "name": "stdout",
     "output_type": "stream",
     "text": [
      "[[1, 2, 3], [4, 5, 6], [7, 8, 9], [10, 11, 12]]\n",
      "[[1, 2, 3], [4, 5, 6], [7, 8, 9], [13, 14, 15]]\n",
      "------------\n",
      "[[1, 2, 'c'], [4, 5, 'd'], [7, 8, 9], [10, 11, 12]]\n",
      "[[1, 2, 'c'], [4, 5, 'd'], [7, 8, 9], [13, 14, 15]]\n",
      "------------\n",
      "2152505469448\n",
      "2152505607112\n",
      "False\n"
     ]
    }
   ],
   "source": [
    "import copy\n",
    "pathadi = [[1,2,3], [4,5,6], [7,8,9]]\n",
    "\n",
    "kothadi_s = copy.copy(pathadi)\n",
    "\n",
    "pathadi.append([10,11,12])\n",
    "kothadi_s.append([13,14,15])\n",
    "\n",
    "print(pathadi)\n",
    "print(kothadi_s)\n",
    "\n",
    "pathadi[0][2] = 'c'\n",
    "kothadi_s[1][2] = 'd'\n",
    "\n",
    "print('------------')\n",
    "print(pathadi)\n",
    "print(kothadi_s)\n",
    "\n",
    "print('------------')\n",
    "print(id(pathadi))\n",
    "print(id(kothadi_s))\n",
    "print(id(pathadi) == id(kothadi_s))\n",
    "\n"
   ]
  },
  {
   "cell_type": "markdown",
   "metadata": {},
   "source": [
    "## DeepCopy: copy.deepcopy() "
   ]
  },
  {
   "cell_type": "code",
   "execution_count": 5,
   "metadata": {},
   "outputs": [
    {
     "name": "stdout",
     "output_type": "stream",
     "text": [
      "[[1, 2, 3], [4, 5, 6], [7, 8, 9], [10, 11, 12]]\n",
      "[[1, 2, 3], [4, 5, 6], [7, 8, 9], [13, 14, 15]]\n",
      "------------\n",
      "[[1, 2, 'c'], [4, 5, 6], [7, 8, 9], [10, 11, 12]]\n",
      "[[1, 2, 3], [4, 5, 'd'], [7, 8, 9], [13, 14, 15]]\n",
      "------------\n",
      "2152506014024\n",
      "2152506013960\n",
      "False\n"
     ]
    }
   ],
   "source": [
    "prev = [[1,2,3], [4,5,6], [7,8,9]]\n",
    "\n",
    "next_d = copy.deepcopy(prev)\n",
    "\n",
    "prev.append([10,11,12])\n",
    "next_d.append([13,14,15])\n",
    "\n",
    "print(prev)\n",
    "print(next_d)\n",
    "\n",
    "prev[0][2] = 'c'\n",
    "next_d[1][2] = 'd'\n",
    "\n",
    "print('------------')\n",
    "print(prev)\n",
    "print(next_d)\n",
    "\n",
    "print('------------')\n",
    "print(id(prev))\n",
    "print(id(next_d))\n",
    "print(id(prev) == id(next_d))\n",
    "\n"
   ]
  },
  {
   "cell_type": "code",
   "execution_count": null,
   "metadata": {},
   "outputs": [],
   "source": []
  }
 ],
 "metadata": {
  "kernelspec": {
   "display_name": "Python 3",
   "language": "python",
   "name": "python3"
  },
  "language_info": {
   "codemirror_mode": {
    "name": "ipython",
    "version": 3
   },
   "file_extension": ".py",
   "mimetype": "text/x-python",
   "name": "python",
   "nbconvert_exporter": "python",
   "pygments_lexer": "ipython3",
   "version": "3.7.3"
  }
 },
 "nbformat": 4,
 "nbformat_minor": 2
}
