{
 "cells": [
  {
   "cell_type": "code",
   "execution_count": 1,
   "metadata": {},
   "outputs": [],
   "source": [
    "## CLASS AND OBJECT"
   ]
  },
  {
   "cell_type": "code",
   "execution_count": 3,
   "metadata": {},
   "outputs": [],
   "source": [
    "class Mekkonda:\n",
    "    father = None\n",
    "    mother = None\n",
    "    \n",
    "    def get_father(self):\n",
    "        print('Enter Father Name: ')\n",
    "        self.father = input()\n",
    "        \n",
    "    def get_mother(self):\n",
    "        print('Enter Mother Name: ')\n",
    "        self.mother = input()\n",
    "        \n",
    "    def put_father(self):\n",
    "        print('Your FN is : ', self.father)\n",
    "        \n",
    "    def put_mother(self):\n",
    "        print('Your MN is: ', self.mother)\n",
    "        "
   ]
  },
  {
   "cell_type": "code",
   "execution_count": 5,
   "metadata": {},
   "outputs": [],
   "source": [
    "Satish = Mekkonda()"
   ]
  },
  {
   "cell_type": "code",
   "execution_count": 7,
   "metadata": {},
   "outputs": [
    {
     "name": "stdout",
     "output_type": "stream",
     "text": [
      "Enter Father Name: \n",
      "Dayakar Mekkonda\n"
     ]
    }
   ],
   "source": [
    "Satish.get_father()"
   ]
  },
  {
   "cell_type": "code",
   "execution_count": 8,
   "metadata": {},
   "outputs": [
    {
     "name": "stdout",
     "output_type": "stream",
     "text": [
      "Enter Mother Name: \n",
      "Vijaya Lakshmi\n"
     ]
    }
   ],
   "source": [
    "Satish.get_mother()"
   ]
  },
  {
   "cell_type": "code",
   "execution_count": 12,
   "metadata": {},
   "outputs": [
    {
     "name": "stdout",
     "output_type": "stream",
     "text": [
      "Your FN is :  Dayakar Mekkonda\n",
      "Your MN is:  Vijaya Lakshmi\n"
     ]
    },
    {
     "data": {
      "text/plain": [
       "(None, None)"
      ]
     },
     "execution_count": 12,
     "metadata": {},
     "output_type": "execute_result"
    }
   ],
   "source": [
    "Satish.put_father(), Satish.put_mother()"
   ]
  },
  {
   "cell_type": "code",
   "execution_count": null,
   "metadata": {},
   "outputs": [],
   "source": []
  },
  {
   "cell_type": "code",
   "execution_count": null,
   "metadata": {},
   "outputs": [],
   "source": []
  }
 ],
 "metadata": {
  "kernelspec": {
   "display_name": "Python 3",
   "language": "python",
   "name": "python3"
  },
  "language_info": {
   "codemirror_mode": {
    "name": "ipython",
    "version": 3
   },
   "file_extension": ".py",
   "mimetype": "text/x-python",
   "name": "python",
   "nbconvert_exporter": "python",
   "pygments_lexer": "ipython3",
   "version": "3.7.3"
  }
 },
 "nbformat": 4,
 "nbformat_minor": 2
}
