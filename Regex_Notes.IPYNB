=====================================================================================

def isPhoneNumber(text):
  if len(text) != 12:
    print('Not Phone Number')

  for i in range (0,3):
    if not text[i].isdecimal():
      print('No area code')

  if text[3] != '-':
    print('Missing first dash')

  for i in range (4,7):
    if not text[i].isdecimal():
      print('No First Three Digits')

  if text[7] != '-':
    print('Missing Second Dash')

  for i in range(8,12):
    if not text[i].isdecimal():
      print('Missing Last Four Digits')

  print('Valid US Phone Number')

print(isPhoneNumber('415-222-6548'))




def isPhoneNumber(text):
  if len(text) != 12:
    return False #('Not Phone Number')

  for i in range (0,3):
    if not text[i].isdecimal():
      return False #('No area code')

  if text[3] != '-':
    return False #('Missing first dash')

  for i in range (4,7):
    if not text[i].isdecimal():
      return False #('No First Three Digits')

  if text[7] != '-':
    return False #('Missing Second Dash')

  for i in range(8,12):
    if not text[i].isdecimal():
      return False #('Missing Last Four Digits')

  return True #('Valid US Phone Number')

print(isPhoneNumber('415-222-6548'))



def isPhoneNumber(text):
  if len(text) != 12:
    return False #('Not Phone Number')

  for i in range (0,3):
    if not text[i].isdecimal():
      return False #('No area code')

  if text[3] != '-':
    return False #('Missing first dash')

  for i in range (4,7):
    if not text[i].isdecimal():
      return False #('No First Three Digits')

  if text[7] != '-':
    return False #('Missing Second Dash')

  for i in range(8,12):
    if not text[i].isdecimal():
      return False #('Missing Last Four Digits')

  return True #('Valid US Phone Number')

message = 'Call me on 809-995-9644 tomorrow or on 868-641-8021 anytime'
foundNumber = False

for i in range(len(message)):
  chunk = message[i:i+12]
  if isPhoneNumber(chunk):
    print('Phone Number Found: ' + chunk)
    foundNumber = True

if not foundNumber:
  print('Could not find any phone Number')



000.




import re

phoneNumRegex = re.compile(r'\d\d\d-\d\d\d-\d\d\d\d')

print(phoneNumRegex.findall('Call me on 809-995-9644 tomorrow or on 868-641-8021 anytime'))


=====================================================================================

import re
phoneNumRegex = re.compile(r'(\d\d\d)-(\d\d\d-\d\d\d\d)')
mo = phoneNumRegex.search('My Number is 809-995-9644')
mo.group()
mo.group(2)
mo.group(1)



import re
phoneNumRegex = re.compile(r'\(\d\d\d\) \d\d\d-\d\d\d\d')
mo = phoneNumRegex.search('My Number is (809) 995-9644')
mo.group()


import re
batRegex = re.compile(r'bat(man|car|mobile|bike)')
mo=batRegex.search('batman has lost a wheel')
print(mo.group())

import re
batRegex = re.compile(r'bat(man|car|mobile|bike)')
mo=batRegex.search('batma has lost a wheel')
print(mo.group())


import re
batRegex = re.compile(r'bat(man|car|mobile|bike)')

print(batRegex.findall('batman has lost a wheel while driving his batcar'))
=====================================================================================

import re
batRegex = re.compile(r'Bat(wo)?man')
mo = batRegex.search('the adventures of Batman')
print(mo.group())


import re
batRegex = re.compile(r'Bat(wo)?man')
mo = batRegex.search('the adventures of Batwoman')
print(mo.group())


import re
batRegex = re.compile(r'Bat(wo)?man')
mo = batRegex.search('the adventures of Batwowowoman')
print(mo.group())


import re
phoneRegex = re.compile(r'\d\d\d-\d\d\d-\d\d\d\d')
mo = phoneRegex.search('My Number is 809-995-9644')
print(mo.group())

import re
phoneRegex = re.compile(r'(\d\d\d)?\d\d\d-\d\d\d\d')
mo = phoneRegex.search('My Number is 995-9644')
print(mo.group())


import re
batRegex = re.compile(r'Bat(wo)?man')
mo = batRegex.search('the adventures of Batman')
print(mo.group())

import re
batRegex = re.compile(r'Bat(wo)*man')
mo = batRegex.search('the adventures of Batman')
print(mo.group())

import re
batRegex = re.compile(r'Bat(wo)+man')
mo = batRegex.search('the adventures of Batman')
print(mo.group())


import re
regex =  re.compile(r'\+\*\?')
mo = regex.search('I learned about +*? regex syntax')
print(mo.group())


import re
regex =  re.compile(r'(\+\*\?)+')
mo = regex.search('I learned about +*?+*?+*?+*? regex syntax')
print(mo.group())



import re
haregex = re.compile(r'(ha){3}')
mo = haregex.search(' My friend said hahaha')
print(mo.group())

import re
haregex = re.compile(r'(ha){6}')
mo = haregex.search(' My friend said hahahaha')
print(mo.group())


import re
haregex = re.compile(r'(ha){3}')
mo = haregex.search(' My friend said hahahaha')
print(mo.group())


import re
phoneRegex = re.compile(r'((\d\d\d-)?\d\d\d-\d\d\d\d(,)?){3}')
mo = phoneRegex.search('My 809-995-9644, 995-9644, 987-995-9644 done')
print(mo.group())


import re
haregex = re.compile(r'(ha){3,5}')
mo = haregex.search(' My friend said hahahahahahahaha')
print(mo.group())


import re
haregex = re.compile(r'(ha){3,5}')
mo = haregex.search(' My friend said haha')
print(mo.group())

import re
haregex = re.compile(r'(ha){3,}')
mo = haregex.search(' My friend said hahahahahahahaha')
print(mo.group())

import re
haregex = re.compile(r'(ha){,5}')
mo = haregex.search(' My friend said hahahahahahahaha')
print(mo.group())


import re
digitRegex =re.compile(r'(\d){3,5}')
mo = digitRegex.search('123654789')
print(mo.group())

import re
digitRegex =re.compile(r'(\d){3,}')
mo = digitRegex.search('123654789')
print(mo.group())

import re
digitRegex =re.compile(r'(\d){,5}')
mo = digitRegex.search('123654789')
print(mo.group())

import re
digitRegex =re.compile(r'(\d){3,5}?')
mo = digitRegex.search('123654789')
print(mo.group())

==========================================================================================================================================================================

import re
phoneRegex = re.compile(r'\d\d\d-\d\d\d-\d\d\d\d')
resume = '''To be associated with an organization that provides me an opportunity to show my skills, improve my knowledge with the latest trend and to be part of the 995-140-5744 team that works dynamically towards the growth of 809-995-9644 the organization and me as an individual.  '''
print(phoneRegex.findall(resume))


import re
phoneRegex = re.compile(r'\d\d\d-\d\d\d-\d\d\d\d')
resume = '''To be associated with an organization that provides me an opportunity to show my skills, improve my knowledge with the latest trend and to be part of the 995-140-5744 team that works dynamically towards the growth of 809-995-9644 the organization and me as an individual.  '''
print(phoneRegex.search(resume))


import re
phoneRegex = re.compile(r'\d\d\d-\d\d\d-\d\d\d\d')
resume = phoneRegex.search('''To be associated with an organization that provides me an opportunity to show my skills, improve my knowledge with the latest trend and to be part of the 995-140-5744 team that works dynamically towards the growth of 809-995-9644 the organization and me as an individual.  ''')
print(resume.group())



import re
phoneRegex = re.compile(r'\d\d\d-\d\d\d-\d\d\d\d')
resume = phoneRegex.findall('''To be associated with an organization that provides me an opportunity to show my skills, improve my knowledge with the latest trend and to be part of the 995-140-5744 team that works dynamically towards the growth of 809-995-9644 the organization and me as an individual.  ''')
print(resume.group())



import re
xmasRegex = re.compile(r'\d+\s\w+')

lyrics = '12 drummers drumming, 11 pipers piping, 10 Lords a-leaping, 9 ladies dancing, 8 maids a-milking, 7 swans a-swimming, 6 geese a-laying, 5 golden rings, 4 calling birds, 3 French hens, 2 turtle doves'
xmasRegex.findall(lyrics)


import re
xmasRegex = re.compile(r'\d+\s\w+\s\w+')

lyrics = '12 drummers drumming, 11 pipers piping, 10 Lords a-leaping, 9 ladies dancing, 8 maids a-milking, 7 swans a-swimming, 6 geese a-laying, 5 golden rings, 4 calling birds, 3 French hens, 2 turtle doves'
print(xmasRegex.findall(lyrics))


import re
vowelRegex = re.compile(r'[aeiouAEIOU]')
print(vowelRegex.findall(' A Robo Cop eats a baby Food, you Understand'))


import re
vowelRegex = re.compile(r'[a-z]')
print(vowelRegex.findall(' A Robo Cop eats a baby Food, you Understand'))


import re
vowelRegex = re.compile(r'[a|e|i]')
print(vowelRegex.findall(' A Robo Cop eats a baby Food, you Understand'))


import re
vowelRegex = re.compile(r'(a|e|i|o)')
print(vowelRegex.findall(' A Robo Cop eats a baby Food, you Understand'))

import re
doublevowelRegex = re.compile(r'[aeiouAEIOU]{2}')
print(doublevowelRegex.findall(' A Robo Cop eats a baby Food, you Understand'))

import re
consonantsRegex = re.compile(r'[^ aeiouAEIOU]{2}')
print(consonantsRegex.findall(' A Robo Cop eats a baby Food, you Understand'))


import re
consonantsRegex = re.compile(r'[^ aeiouAEIOU]')
print(consonantsRegex.findall(' A Robo Cop eats a baby Food, you Understand'))


===============================================================


import re
beginwithRegex = re.compile(r'^Hello')
String = 'Hello World'
print(beginwithRegex.search(String))

import re
beginwithRegex = re.compile(r'^Hello')
String = 'Hello World'
print(beginwithRegex.findall(String))



import re
beginwithRegex = re.compile(r'Hello$')
String = 'Hello World'
print(beginwithRegex.findall(String))


import re
beginwithRegex = re.compile(r'Hello$')
String = 'Hello World'
print(beginwithRegex.search(String))


import re
beginwithRegex = re.compile(r'^Hello World$')
String = 'Hello World'
print(beginwithRegex.search(String))


import re
beginwithRegex = re.compile(r'^\d+$')
String = '8099959644'
print(beginwithRegex.search(String))


import re
beginwithRegex = re.compile(r'^\d+$')
String = '8099959aa644'
print(beginwithRegex.search(String))


import re
atRegex = re.compile(r'.at')
print(atRegex.findall('The cat in tha hat sat in the flat'))


import re
atRegex = re.compile(r'.{1,2}at')
print(atRegex.findall('The cat in tha hat sat in the flat'))

import re
atRegex = re.compile(r'.{1,2}at')
print(atRegex.findall('The caaat in tha hat ssat in the flaat'))


import re
nameRegex= re.compile(r'FirstName: (.*) LastName: (.*)')
print(nameRegex.findall('FirstName: Satish LastName: Mekkonda'))


import re
serve = '<To serve humans> for dinner.>'
nongreedy = re.compile(r'<(.*?)>')
print(nongreedy.findall(serve))


import re
serve = '<To serve humans> for dinner.>'
nongreedy = re.compile(r'<(.*)>')
print(nongreedy.findall(serve))



import re
prime = 'Serve the Trust.\nProtect the Innocent. \nUpload the law'
dotStarRegex = re.compile(r'.*')
print(dotStarRegex.search(prime))


import re
prime = 'Serve the Trust.\nProtect the Innocent. \nUpload the law'
dotStarRegex = re.compile(r'.*')
print(dotStarRegex.findall(prime))

import re
prime = 'Serve the Trust.\nProtect the Innocent. \nUpload the law'
dotStarRegex = re.compile(r'.*')
mo = dotStarRegex.search(prime)
print(mo.group())


import re
prime = 'Serve the Trust.\nProtect the Innocent. \nUpload the law'
dotStarRegex = re.compile(r'.*', re.DOTALL)
print(dotStarRegex.search(prime))


import re
vowelRegex = re.compile(r'[aeiou]')
print(vowelRegex.findall('There is a family called Mekkonda, head of the family is Mekkonda Dayakar. Enjoy!'))


import re
vowelRegex = re.compile(r'[aeiou]', re.I)
print(vowelRegex.findall('TherE is a family called MEkkonda, heAd of the family is Mekkonda Dayakar. Enjoy!'))


+++++++++++++++++++++++++++++++++++++++++++++++++++++++++++++++

import re
namesRegex = re.compile(r'Agent \w+')
print(namesRegex.findall(' Agent Satish gave secret documents to Agent Mekkonda'))


import re
namesRegex = re.compile(r'Agent \w+')
print(namesRegex.findall(' Agent Satish gave secret documents to Agent Mekkonda'))
print(namesRegex.sub('Sagar', ' Agent Satish gave secret documents to Agent Mekkonda'))


import re
namesRegex = re.compile(r'Agent (\w)\w*')
print(namesRegex.findall('Agent Satish gave secret documents to Agent Mekkonda'))

import re
namesRegex = re.compile(r'Agent (\w)\w*')
print(namesRegex.findall('Agent Satish gave secret documents to Agent Mekkonda'))
print(namesRegex.sub(r'Agent \1****', 'Agent Satish gave secret documents to Agent Mekkonda'))


import re
phoneRegex = re.compile(r'''
\d\d\d
-
\d\d\d
-
\d\d\d\d''', re.VERBOSE)
mo = phoneRegex.search('My Number is 809-995-9644')
print(mo.group())

============================================================